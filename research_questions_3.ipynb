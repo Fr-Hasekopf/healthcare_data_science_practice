{
 "cells": [
  {
   "cell_type": "markdown",
   "metadata": {},
   "source": [
    "# Research Question 3\n",
    "\n",
    "Are there gender differences in different types of cardiovascular diseases (CVD)?"
   ]
  },
  {
   "cell_type": "markdown",
   "metadata": {},
   "source": [
    "## Data exploration and pre-processing\n",
    "'SEX' attribute has only two categories. We use LabelEncoder to label them as categorical variables. \n",
    "\n",
    "## Data analysis\n",
    "We use Kmeans clustering, and 2D/3D visualization to present the data. \n",
    "Using the Elbow method, we can see the best number of clusters is between 4 and 5. \n",
    "\n",
    "## Results\n",
    "Number of cluster between 4 and 5. \n",
    "\n",
    "## Limitations\n",
    "No significant boundaries are identified from the visualization. Several sub-clusters might be hidden. \n",
    "In order to enhance the clustering, more features could be considered. \n"
   ]
  },
  {
   "cell_type": "code",
   "execution_count": 1,
   "metadata": {},
   "outputs": [],
   "source": [
    "import pandas as pd\n",
    "import matplotlib.pyplot as plt\n",
    "import numpy as np\n",
    "import seaborn as sns\n",
    "from sklearn.preprocessing import LabelEncoder\n",
    "from sklearn import model_selection\n",
    "from sklearn.cluster import KMeans\n",
    "import warnings\n",
    "warnings.filterwarnings('ignore')"
   ]
  },
  {
   "cell_type": "code",
   "execution_count": 2,
   "metadata": {},
   "outputs": [
    {
     "data": {
      "text/html": [
       "<div>\n",
       "<style scoped>\n",
       "    .dataframe tbody tr th:only-of-type {\n",
       "        vertical-align: middle;\n",
       "    }\n",
       "\n",
       "    .dataframe tbody tr th {\n",
       "        vertical-align: top;\n",
       "    }\n",
       "\n",
       "    .dataframe thead th {\n",
       "        text-align: right;\n",
       "    }\n",
       "</style>\n",
       "<table border=\"1\" class=\"dataframe\">\n",
       "  <thead>\n",
       "    <tr style=\"text-align: right;\">\n",
       "      <th></th>\n",
       "      <th>_STATE</th>\n",
       "      <th>_GEOSTR</th>\n",
       "      <th>_DENSTR2</th>\n",
       "      <th>PRECALL</th>\n",
       "      <th>SECSCRFL</th>\n",
       "      <th>REPNUM</th>\n",
       "      <th>REPDEPTH</th>\n",
       "      <th>FMONTH</th>\n",
       "      <th>IDATE</th>\n",
       "      <th>IMONTH</th>\n",
       "      <th>...</th>\n",
       "      <th>PPS_45</th>\n",
       "      <th>PPS_46</th>\n",
       "      <th>PPS_48</th>\n",
       "      <th>PPS_52</th>\n",
       "      <th>childage</th>\n",
       "      <th>cracorg1</th>\n",
       "      <th>_prace1</th>\n",
       "      <th>mracasc1</th>\n",
       "      <th>_impcty</th>\n",
       "      <th>mracorg1</th>\n",
       "    </tr>\n",
       "  </thead>\n",
       "  <tbody>\n",
       "    <tr>\n",
       "      <td>0</td>\n",
       "      <td>New York</td>\n",
       "      <td>207</td>\n",
       "      <td>D</td>\n",
       "      <td>To be called</td>\n",
       "      <td>2.627151</td>\n",
       "      <td>40187</td>\n",
       "      <td>5</td>\n",
       "      <td>April</td>\n",
       "      <td>4092015</td>\n",
       "      <td>April</td>\n",
       "      <td>...</td>\n",
       "      <td>No</td>\n",
       "      <td>No</td>\n",
       "      <td>No</td>\n",
       "      <td>Yes</td>\n",
       "      <td>D</td>\n",
       "      <td>Data do not meet the criteria for statistical ...</td>\n",
       "      <td>D</td>\n",
       "      <td>D</td>\n",
       "      <td>D</td>\n",
       "      <td>Data do not meet the criteria for statistical ...</td>\n",
       "    </tr>\n",
       "    <tr>\n",
       "      <td>1</td>\n",
       "      <td>New York</td>\n",
       "      <td>207</td>\n",
       "      <td>D</td>\n",
       "      <td>To be called</td>\n",
       "      <td>2.627151</td>\n",
       "      <td>60025</td>\n",
       "      <td>21</td>\n",
       "      <td>June</td>\n",
       "      <td>6232015</td>\n",
       "      <td>June</td>\n",
       "      <td>...</td>\n",
       "      <td>No</td>\n",
       "      <td>No</td>\n",
       "      <td>No</td>\n",
       "      <td>Yes</td>\n",
       "      <td>D</td>\n",
       "      <td>Data do not meet the criteria for statistical ...</td>\n",
       "      <td>D</td>\n",
       "      <td>D</td>\n",
       "      <td>D</td>\n",
       "      <td>Data do not meet the criteria for statistical ...</td>\n",
       "    </tr>\n",
       "    <tr>\n",
       "      <td>2</td>\n",
       "      <td>New York</td>\n",
       "      <td>203</td>\n",
       "      <td>D</td>\n",
       "      <td>To be called</td>\n",
       "      <td>2.627151</td>\n",
       "      <td>120050</td>\n",
       "      <td>3</td>\n",
       "      <td>December</td>\n",
       "      <td>12282015</td>\n",
       "      <td>December</td>\n",
       "      <td>...</td>\n",
       "      <td>No</td>\n",
       "      <td>No</td>\n",
       "      <td>No</td>\n",
       "      <td>No</td>\n",
       "      <td>D</td>\n",
       "      <td>Data do not meet the criteria for statistical ...</td>\n",
       "      <td>D</td>\n",
       "      <td>D</td>\n",
       "      <td>D</td>\n",
       "      <td>Data do not meet the criteria for statistical ...</td>\n",
       "    </tr>\n",
       "    <tr>\n",
       "      <td>3</td>\n",
       "      <td>New York</td>\n",
       "      <td>206</td>\n",
       "      <td>D</td>\n",
       "      <td>To be called</td>\n",
       "      <td>2.627151</td>\n",
       "      <td>30066</td>\n",
       "      <td>28</td>\n",
       "      <td>March</td>\n",
       "      <td>3182015</td>\n",
       "      <td>March</td>\n",
       "      <td>...</td>\n",
       "      <td>No</td>\n",
       "      <td>No</td>\n",
       "      <td>No</td>\n",
       "      <td>No</td>\n",
       "      <td>D</td>\n",
       "      <td>Data do not meet the criteria for statistical ...</td>\n",
       "      <td>D</td>\n",
       "      <td>D</td>\n",
       "      <td>D</td>\n",
       "      <td>Data do not meet the criteria for statistical ...</td>\n",
       "    </tr>\n",
       "    <tr>\n",
       "      <td>4</td>\n",
       "      <td>New York</td>\n",
       "      <td>203</td>\n",
       "      <td>D</td>\n",
       "      <td>To be called</td>\n",
       "      <td>2.627151</td>\n",
       "      <td>110026</td>\n",
       "      <td>23</td>\n",
       "      <td>November</td>\n",
       "      <td>11292015</td>\n",
       "      <td>November</td>\n",
       "      <td>...</td>\n",
       "      <td>No</td>\n",
       "      <td>No</td>\n",
       "      <td>No</td>\n",
       "      <td>No</td>\n",
       "      <td>D</td>\n",
       "      <td>Data do not meet the criteria for statistical ...</td>\n",
       "      <td>D</td>\n",
       "      <td>D</td>\n",
       "      <td>D</td>\n",
       "      <td>Data do not meet the criteria for statistical ...</td>\n",
       "    </tr>\n",
       "    <tr>\n",
       "      <td>...</td>\n",
       "      <td>...</td>\n",
       "      <td>...</td>\n",
       "      <td>...</td>\n",
       "      <td>...</td>\n",
       "      <td>...</td>\n",
       "      <td>...</td>\n",
       "      <td>...</td>\n",
       "      <td>...</td>\n",
       "      <td>...</td>\n",
       "      <td>...</td>\n",
       "      <td>...</td>\n",
       "      <td>...</td>\n",
       "      <td>...</td>\n",
       "      <td>...</td>\n",
       "      <td>...</td>\n",
       "      <td>...</td>\n",
       "      <td>...</td>\n",
       "      <td>...</td>\n",
       "      <td>...</td>\n",
       "      <td>...</td>\n",
       "      <td>...</td>\n",
       "    </tr>\n",
       "    <tr>\n",
       "      <td>12333</td>\n",
       "      <td>New York</td>\n",
       "      <td>207</td>\n",
       "      <td>D</td>\n",
       "      <td>To be called</td>\n",
       "      <td>2.627151</td>\n",
       "      <td>40007</td>\n",
       "      <td>14</td>\n",
       "      <td>April</td>\n",
       "      <td>4162015</td>\n",
       "      <td>April</td>\n",
       "      <td>...</td>\n",
       "      <td>No</td>\n",
       "      <td>No</td>\n",
       "      <td>No</td>\n",
       "      <td>Yes</td>\n",
       "      <td>D</td>\n",
       "      <td>Data do not meet the criteria for statistical ...</td>\n",
       "      <td>D</td>\n",
       "      <td>D</td>\n",
       "      <td>D</td>\n",
       "      <td>Data do not meet the criteria for statistical ...</td>\n",
       "    </tr>\n",
       "    <tr>\n",
       "      <td>12334</td>\n",
       "      <td>New York</td>\n",
       "      <td>207</td>\n",
       "      <td>D</td>\n",
       "      <td>To be called</td>\n",
       "      <td>0.000000</td>\n",
       "      <td>60048</td>\n",
       "      <td>8</td>\n",
       "      <td>June</td>\n",
       "      <td>7102015</td>\n",
       "      <td>July</td>\n",
       "      <td>...</td>\n",
       "      <td>No</td>\n",
       "      <td>No</td>\n",
       "      <td>No</td>\n",
       "      <td>Yes</td>\n",
       "      <td>D</td>\n",
       "      <td>Data do not meet the criteria for statistical ...</td>\n",
       "      <td>D</td>\n",
       "      <td>D</td>\n",
       "      <td>D</td>\n",
       "      <td>Data do not meet the criteria for statistical ...</td>\n",
       "    </tr>\n",
       "    <tr>\n",
       "      <td>12335</td>\n",
       "      <td>New York</td>\n",
       "      <td>207</td>\n",
       "      <td>D</td>\n",
       "      <td>To be called</td>\n",
       "      <td>0.000000</td>\n",
       "      <td>70002</td>\n",
       "      <td>4</td>\n",
       "      <td>July</td>\n",
       "      <td>8152015</td>\n",
       "      <td>August</td>\n",
       "      <td>...</td>\n",
       "      <td>No</td>\n",
       "      <td>No</td>\n",
       "      <td>No</td>\n",
       "      <td>Yes</td>\n",
       "      <td>D</td>\n",
       "      <td>Data do not meet the criteria for statistical ...</td>\n",
       "      <td>D</td>\n",
       "      <td>D</td>\n",
       "      <td>D</td>\n",
       "      <td>Data do not meet the criteria for statistical ...</td>\n",
       "    </tr>\n",
       "    <tr>\n",
       "      <td>12336</td>\n",
       "      <td>New York</td>\n",
       "      <td>207</td>\n",
       "      <td>D</td>\n",
       "      <td>To be called</td>\n",
       "      <td>0.000000</td>\n",
       "      <td>70019</td>\n",
       "      <td>20</td>\n",
       "      <td>July</td>\n",
       "      <td>8092015</td>\n",
       "      <td>August</td>\n",
       "      <td>...</td>\n",
       "      <td>No</td>\n",
       "      <td>No</td>\n",
       "      <td>No</td>\n",
       "      <td>Yes</td>\n",
       "      <td>D</td>\n",
       "      <td>Data do not meet the criteria for statistical ...</td>\n",
       "      <td>D</td>\n",
       "      <td>D</td>\n",
       "      <td>D</td>\n",
       "      <td>Data do not meet the criteria for statistical ...</td>\n",
       "    </tr>\n",
       "    <tr>\n",
       "      <td>12337</td>\n",
       "      <td>New York</td>\n",
       "      <td>207</td>\n",
       "      <td>D</td>\n",
       "      <td>To be called</td>\n",
       "      <td>2.627151</td>\n",
       "      <td>90036</td>\n",
       "      <td>1</td>\n",
       "      <td>September</td>\n",
       "      <td>10182015</td>\n",
       "      <td>October</td>\n",
       "      <td>...</td>\n",
       "      <td>No</td>\n",
       "      <td>No</td>\n",
       "      <td>No</td>\n",
       "      <td>Yes</td>\n",
       "      <td>D</td>\n",
       "      <td>Data do not meet the criteria for statistical ...</td>\n",
       "      <td>D</td>\n",
       "      <td>D</td>\n",
       "      <td>D</td>\n",
       "      <td>Data do not meet the criteria for statistical ...</td>\n",
       "    </tr>\n",
       "  </tbody>\n",
       "</table>\n",
       "<p>12338 rows × 414 columns</p>\n",
       "</div>"
      ],
      "text/plain": [
       "         _STATE  _GEOSTR _DENSTR2       PRECALL  SECSCRFL  REPNUM  REPDEPTH  \\\n",
       "0      New York      207        D  To be called  2.627151   40187         5   \n",
       "1      New York      207        D  To be called  2.627151   60025        21   \n",
       "2      New York      203        D  To be called  2.627151  120050         3   \n",
       "3      New York      206        D  To be called  2.627151   30066        28   \n",
       "4      New York      203        D  To be called  2.627151  110026        23   \n",
       "...         ...      ...      ...           ...       ...     ...       ...   \n",
       "12333  New York      207        D  To be called  2.627151   40007        14   \n",
       "12334  New York      207        D  To be called  0.000000   60048         8   \n",
       "12335  New York      207        D  To be called  0.000000   70002         4   \n",
       "12336  New York      207        D  To be called  0.000000   70019        20   \n",
       "12337  New York      207        D  To be called  2.627151   90036         1   \n",
       "\n",
       "          FMONTH     IDATE    IMONTH  ...  PPS_45  PPS_46  PPS_48  PPS_52  \\\n",
       "0          April   4092015     April  ...      No      No      No     Yes   \n",
       "1           June   6232015      June  ...      No      No      No     Yes   \n",
       "2       December  12282015  December  ...      No      No      No      No   \n",
       "3          March   3182015     March  ...      No      No      No      No   \n",
       "4       November  11292015  November  ...      No      No      No      No   \n",
       "...          ...       ...       ...  ...     ...     ...     ...     ...   \n",
       "12333      April   4162015     April  ...      No      No      No     Yes   \n",
       "12334       June   7102015      July  ...      No      No      No     Yes   \n",
       "12335       July   8152015    August  ...      No      No      No     Yes   \n",
       "12336       July   8092015    August  ...      No      No      No     Yes   \n",
       "12337  September  10182015   October  ...      No      No      No     Yes   \n",
       "\n",
       "       childage                                           cracorg1  _prace1  \\\n",
       "0             D  Data do not meet the criteria for statistical ...        D   \n",
       "1             D  Data do not meet the criteria for statistical ...        D   \n",
       "2             D  Data do not meet the criteria for statistical ...        D   \n",
       "3             D  Data do not meet the criteria for statistical ...        D   \n",
       "4             D  Data do not meet the criteria for statistical ...        D   \n",
       "...         ...                                                ...      ...   \n",
       "12333         D  Data do not meet the criteria for statistical ...        D   \n",
       "12334         D  Data do not meet the criteria for statistical ...        D   \n",
       "12335         D  Data do not meet the criteria for statistical ...        D   \n",
       "12336         D  Data do not meet the criteria for statistical ...        D   \n",
       "12337         D  Data do not meet the criteria for statistical ...        D   \n",
       "\n",
       "       mracasc1 _impcty                                           mracorg1  \n",
       "0             D       D  Data do not meet the criteria for statistical ...  \n",
       "1             D       D  Data do not meet the criteria for statistical ...  \n",
       "2             D       D  Data do not meet the criteria for statistical ...  \n",
       "3             D       D  Data do not meet the criteria for statistical ...  \n",
       "4             D       D  Data do not meet the criteria for statistical ...  \n",
       "...         ...     ...                                                ...  \n",
       "12333         D       D  Data do not meet the criteria for statistical ...  \n",
       "12334         D       D  Data do not meet the criteria for statistical ...  \n",
       "12335         D       D  Data do not meet the criteria for statistical ...  \n",
       "12336         D       D  Data do not meet the criteria for statistical ...  \n",
       "12337         D       D  Data do not meet the criteria for statistical ...  \n",
       "\n",
       "[12338 rows x 414 columns]"
      ]
     },
     "execution_count": 2,
     "metadata": {},
     "output_type": "execute_result"
    }
   ],
   "source": [
    "data = pd.read_csv('brfss_for_bda_2021.csv')\n",
    "data.fillna(data.mean())"
   ]
  },
  {
   "cell_type": "markdown",
   "metadata": {},
   "source": [
    "### NO. of entries for 'SEX'"
   ]
  },
  {
   "cell_type": "code",
   "execution_count": 3,
   "metadata": {},
   "outputs": [
    {
     "name": "stdout",
     "output_type": "stream",
     "text": [
      "***** SEX statistics *****\n",
      "Female    7139\n",
      "Male      5199\n",
      "Name: SEX, dtype: int64\n"
     ]
    },
    {
     "data": {
      "text/plain": [
       "<matplotlib.axes._subplots.AxesSubplot at 0xcd957dd988>"
      ]
     },
     "execution_count": 3,
     "metadata": {},
     "output_type": "execute_result"
    },
    {
     "data": {
      "image/png": "[encoded data removed]",
      "text/plain": [
       "<Figure size 432x288 with 1 Axes>"
      ]
     },
     "metadata": {
      "needs_background": "light"
     },
     "output_type": "display_data"
    }
   ],
   "source": [
    "print(\"***** SEX statistics *****\")\n",
    "print(data.SEX.value_counts())\n",
    "sns.countplot(x='SEX', data=data)"
   ]
  },
  {
   "cell_type": "markdown",
   "metadata": {},
   "source": [
    "### Feature selection"
   ]
  },
  {
   "cell_type": "code",
   "execution_count": 4,
   "metadata": {},
   "outputs": [],
   "source": [
    "# Feature selection\n",
    "x=data[['CVDSTRK3','CVDINFR4','CVDCRHD4']]"
   ]
  },
  {
   "cell_type": "code",
   "execution_count": 6,
   "metadata": {},
   "outputs": [],
   "source": [
    "# Labeling\n",
    "from sklearn.preprocessing import LabelEncoder\n",
    "le = LabelEncoder()\n",
    "le.fit(x['CVDSTRK3'])\n",
    "x.CVDSTRK3 = le.transform(x.CVDSTRK3)\n",
    "# ----------------------------\n",
    "le = LabelEncoder()\n",
    "le.fit(x['CVDINFR4'])\n",
    "x.CVDINFR4 = le.transform(x.CVDINFR4)\n",
    "# ----------------------------\n",
    "le = LabelEncoder()\n",
    "le.fit(x['CVDCRHD4'])\n",
    "x.CVDCRHD4 = le.transform(x.CVDCRHD4)\n",
    "x.to_csv('Result3.csv')"
   ]
  },
  {
   "cell_type": "code",
   "execution_count": 7,
   "metadata": {},
   "outputs": [],
   "source": [
    "X=np.array(x[['CVDSTRK3','CVDINFR4']])\n",
    "X_3=np.array(x[['CVDSTRK3','CVDINFR4','CVDCRHD4']])"
   ]
  },
  {
   "cell_type": "code",
   "execution_count": 10,
   "metadata": {},
   "outputs": [
    {
     "data": {
      "text/plain": [
       "array([[1, 1],\n",
       "       [3, 0],\n",
       "       [1, 1],\n",
       "       ...,\n",
       "       [1, 1],\n",
       "       [1, 1],\n",
       "       [1, 1]])"
      ]
     },
     "execution_count": 10,
     "metadata": {},
     "output_type": "execute_result"
    }
   ],
   "source": [
    "X"
   ]
  },
  {
   "cell_type": "code",
   "execution_count": 11,
   "metadata": {},
   "outputs": [
    {
     "data": {
      "text/plain": [
       "array([[1, 1, 1],\n",
       "       [3, 0, 1],\n",
       "       [1, 1, 1],\n",
       "       ...,\n",
       "       [1, 1, 1],\n",
       "       [1, 1, 1],\n",
       "       [1, 1, 1]])"
      ]
     },
     "execution_count": 11,
     "metadata": {},
     "output_type": "execute_result"
    }
   ],
   "source": [
    "X_3"
   ]
  },
  {
   "cell_type": "markdown",
   "metadata": {},
   "source": [
    "## Decide number of clusters with Elbow method"
   ]
  },
  {
   "cell_type": "code",
   "execution_count": 8,
   "metadata": {},
   "outputs": [
    {
     "data": {
      "image/png": "[encoded data removed]",
      "text/plain": [
       "<Figure size 432x288 with 1 Axes>"
      ]
     },
     "metadata": {
      "needs_background": "light"
     },
     "output_type": "display_data"
    }
   ],
   "source": [
    "# determining number of K\n",
    "k = np.arange(1,11)\n",
    "jarr = []\n",
    "for i in k:\n",
    "    model = KMeans(n_clusters=i)\n",
    "    model.fit(X)\n",
    "    jarr.append(model.inertia_)\n",
    "    # annotate points\n",
    "    plt.annotate(str(i),(i,model.inertia_))\n",
    "plt.plot(k,jarr)\n",
    "plt.show()"
   ]
  },
  {
   "cell_type": "markdown",
   "metadata": {},
   "source": [
    "### 2D Cluster visualization"
   ]
  },
  {
   "cell_type": "code",
   "execution_count": 12,
   "metadata": {},
   "outputs": [
    {
     "name": "stdout",
     "output_type": "stream",
     "text": [
      "*************************\n",
      "当K等于 3\n",
      "聚类中心的坐标：\n",
      "[[0.99859637 0.99640319]\n",
      " [2.99522673 1.52267303]\n",
      " [0.99423077 2.99230769]]\n"
     ]
    },
    {
     "data": {
      "image/png": "[encoded data removed]",
      "text/plain": [
       "<Figure size 360x324 with 1 Axes>"
      ]
     },
     "metadata": {
      "needs_background": "light"
     },
     "output_type": "display_data"
    },
    {
     "name": "stdout",
     "output_type": "stream",
     "text": [
      "*************************\n",
      "当K等于 4\n",
      "聚类中心的坐标：\n",
      "[[0.99833275 0.99640225]\n",
      " [0.99423077 2.99230769]\n",
      " [2.99016393 0.96065574]\n",
      " [2.98290598 2.97435897]]\n"
     ]
    },
    {
     "data": {
      "image/png": "[encoded data removed]",
      "text/plain": [
       "<Figure size 360x324 with 1 Axes>"
      ]
     },
     "metadata": {
      "needs_background": "light"
     },
     "output_type": "display_data"
    },
    {
     "name": "stdout",
     "output_type": "stream",
     "text": [
      "*************************\n",
      "当K等于 5\n",
      "聚类中心的坐标：\n",
      "[[ 9.98679461e-01  1.00035214e+00]\n",
      " [ 9.94186047e-01  3.00000000e+00]\n",
      " [ 2.99016393e+00  9.60655738e-01]\n",
      " [ 2.98290598e+00  2.97435897e+00]\n",
      " [ 9.02439024e-01 -2.22044605e-16]]\n"
     ]
    },
    {
     "data": {
      "image/png": "[encoded data removed]",
      "text/plain": [
       "<Figure size 360x324 with 1 Axes>"
      ]
     },
     "metadata": {
      "needs_background": "light"
     },
     "output_type": "display_data"
    },
    {
     "name": "stdout",
     "output_type": "stream",
     "text": [
      "*************************\n",
      "当K等于 6\n",
      "聚类中心的坐标：\n",
      "[[1.00026439 1.00035252]\n",
      " [0.99418605 3.        ]\n",
      " [3.         0.9602649 ]\n",
      " [2.98290598 2.97435897]\n",
      " [0.         0.78947368]\n",
      " [1.         0.        ]]\n"
     ]
    },
    {
     "data": {
      "image/png": "[encoded data removed]",
      "text/plain": [
       "<Figure size 360x324 with 1 Axes>"
      ]
     },
     "metadata": {
      "needs_background": "light"
     },
     "output_type": "display_data"
    }
   ],
   "source": [
    "# 2D clusters\n",
    "for K in range(3,7):\n",
    "    model1 = KMeans(n_clusters=K)\n",
    "    model1.fit(X)\n",
    "    C_i = model1.predict(X)\n",
    "    Muk = model1.cluster_centers_\n",
    "    print('*'*25)\n",
    "    print('When K equals',K)\n",
    "    print('Center of the cluster')\n",
    "    print(Muk)\n",
    "\n",
    "    plt.figure(figsize=(5, 4.5))\n",
    "    plt.subplot()\n",
    "    plt.ylabel('CVDSTRK3')\n",
    "    plt.xlabel('CVDINFR4')\n",
    "    plt.scatter(X[:, 0], X[:, 1], c=C_i, cmap=plt.cm.Paired)\n",
    "    plt.title = '2D Clusters'\n",
    "    plt.scatter(Muk[:, 0], Muk[:, 1], marker='*', s=60)\n",
    "\n",
    "    plt.show()"
   ]
  },
  {
   "cell_type": "markdown",
   "metadata": {},
   "source": [
    "### 3D Clusters Visualization"
   ]
  },
  {
   "cell_type": "code",
   "execution_count": 16,
   "metadata": {},
   "outputs": [
    {
     "data": {
      "text/plain": [
       "<Figure size 1152x468 with 0 Axes>"
      ]
     },
     "metadata": {},
     "output_type": "display_data"
    },
    {
     "data": {
      "image/png": "[encoded data removed]",
      "text/plain": [
       "<Figure size 432x288 with 1 Axes>"
      ]
     },
     "metadata": {
      "needs_background": "light"
     },
     "output_type": "display_data"
    }
   ],
   "source": [
    "from mpl_toolkits.mplot3d import Axes3D\n",
    "# 3d clusters\n",
    "estimator = KMeans(n_clusters=5)\n",
    "y = estimator.fit_predict(X_3)\n",
    "label_pred = estimator.labels_\n",
    "centroids = estimator.cluster_centers_\n",
    "fig = plt.figure()\n",
    "ax = Axes3D(fig)\n",
    "ax.scatter(X_3[:, 0], X_3[:, 1], X_3[:, 2], c=y, marker='*')\n",
    "ax.scatter(centroids[:, 0], centroids[:, 1], centroids[:, 2], marker='>')\n",
    "# plt.axis([4, 6, 4, 8])\n",
    "plt.show()"
   ]
  }
 ],
 "metadata": {
  "kernelspec": {
   "display_name": "Python 3",
   "language": "python",
   "name": "python3"
  },
  "language_info": {
   "codemirror_mode": {
    "name": "ipython",
    "version": 3
   },
   "file_extension": ".py",
   "mimetype": "text/x-python",
   "name": "python",
   "nbconvert_exporter": "python",
   "pygments_lexer": "ipython3",
   "version": "3.7.4"
  }
 },
 "nbformat": 4,
 "nbformat_minor": 2
}
